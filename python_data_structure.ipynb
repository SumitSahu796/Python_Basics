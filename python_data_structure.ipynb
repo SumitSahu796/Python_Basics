{
  "nbformat": 4,
  "nbformat_minor": 0,
  "metadata": {
    "colab": {
      "provenance": []
    },
    "kernelspec": {
      "name": "python3",
      "display_name": "Python 3"
    },
    "language_info": {
      "name": "python"
    }
  },
  "cells": [
    {
      "cell_type": "markdown",
      "source": [
        "### Theory Question:"
      ],
      "metadata": {
        "id": "VZTHY7wpA0lf"
      }
    },
    {
      "cell_type": "markdown",
      "source": [
        "1.  What are data structures, and why are they important?\n",
        "\n",
        "  A1. Data structure are the basics in computer science and it is a specific/specalized format which is used to oragnized, stores and access the data efficently.\n",
        "\n",
        "  It is important because human and machine both understand the information and easily to perform their task on data.\n",
        "\n",
        "  example of data structure:   List , Dictionary , Set, etc"
      ],
      "metadata": {
        "id": "JofTcH-MA_3D"
      }
    },
    {
      "cell_type": "markdown",
      "source": [
        "2. Explain the difference between mutable and immutable data types with examples.\n",
        "\n",
        "A2. In mutable data type, changes and rearrange of element in the mutable data structure are allowed but in immutable data structure the changes and rearrangement of element is not allowed and it give error if do that.\n",
        "\n",
        "Mutable data structure are list,dictionary,set.\n",
        "\n",
        "Immutable data structure are tuple."
      ],
      "metadata": {
        "id": "J5iflzUZBtBK"
      }
    },
    {
      "cell_type": "markdown",
      "source": [
        "3.  What are the main differences between lists and tuples in Python?\n",
        "\n",
        "A3. List is the data structure which is orederd collection of element and it is mutable data structure.\n",
        "\n",
        "In List, use square bracket - [ ]\n",
        "\n",
        "Syntax of list - List_name = [list_elements]\n",
        "\n",
        "Example of list : list1 = [1,2,\"ajay\",\"sumit\",3+5j]\n",
        "\n",
        "-> Tuple is the data structure which is ordered collection of element and it is immutable data structure.\n",
        "\n",
        "In tuple, use small parenthesis - ( )\n",
        "\n",
        "Syntax of tuple - tuple_name = (tuple_element)\n",
        "\n",
        "Example of list : tuple1 = (1,2,3,\"sumit\",\"ajay\",6+5j)"
      ],
      "metadata": {
        "id": "RB7ZTnd9Cdfe"
      }
    },
    {
      "cell_type": "markdown",
      "source": [
        "4.  Describe how dictionaries store data?\n",
        "\n",
        "A4. Dictionary store the data in key-value pair.\n",
        "\n",
        "-> In dictionary, each key is unique.\n",
        "\n",
        "-> Dictionary data structure retain the last value which is updated in the dictionary to the specific key.\n",
        "\n",
        "-> Example : dict1 = {1:\"ajay\",2:\"pwskills\"}"
      ],
      "metadata": {
        "id": "ARxUU2BfC1Op"
      }
    },
    {
      "cell_type": "markdown",
      "source": [
        "5. Why might you use a set instead of a list in Python?\n",
        "\n",
        " A5. We use set instead of list because set is a data structure which hold only the unique element and discard the duplicate element.\n",
        "\n",
        " Example :\n",
        "  list1 =  [1,2,2,1,3,4,3,5,9,7,3]\n",
        "\n",
        " print(set(list1))\n",
        "\n",
        " # output - {1,2,3,4,5,7,9}\n",
        "\n",
        " here set data structure discard the duplicate values and hold only unique element."
      ],
      "metadata": {
        "id": "3C2HlnhPDLhY"
      }
    },
    {
      "cell_type": "markdown",
      "source": [
        "6.What is a string in Python, and how is it different from a list?\n",
        "\n",
        "A6. String is a data structure which collectively hold the multiple character.\n",
        "Using \"\" inverted commas to initailize the string and string is immutable data structure.\n",
        "\n",
        "-> Example of string : str = \"pwskills\"\n",
        "\n",
        "-> It is diferent from list because list is oredered collection of element and it is mutable and it hold heterogenous element.\n",
        "\n",
        "-> Example of list : list1 = [1,2,\"pwskill\",5+5j]"
      ],
      "metadata": {
        "id": "su8AE0SGD4-E"
      }
    },
    {
      "cell_type": "markdown",
      "source": [
        "7.How do tuples ensure data integrity in Python?\n",
        "\n",
        "A7.Tuple ensure data integrity in python because tuple is ordered collection of element and it is immutable data structure,it means rearrange of element and changes or update in the tuple is not allowed.\n",
        "\n",
        "if do changes in tuple in return it give error.\n",
        "\n",
        "Example of tuple:\n",
        "tuple1 = (1,2,4,5,\"pwskills\",\"ajay\")\n",
        "\n",
        "tuple1[2] = \"sumit\"\n",
        "\n",
        " #output - it give error and say \"tuple is immutable\""
      ],
      "metadata": {
        "id": "EFQpXhwYEcBO"
      }
    },
    {
      "cell_type": "markdown",
      "source": [
        "9.Can lists contain different data types in Python?\n",
        "\n",
        "A9. yes, list can have different element and which is of different data type.\n",
        "Example of list:\n",
        "\n",
        "   list1 =[1,2.2,\"sumit\",5+4j]"
      ],
      "metadata": {
        "id": "lgmzbHd-Eq05"
      }
    },
    {
      "cell_type": "markdown",
      "source": [
        "10.Explain why strings are immutable in Python?\n",
        "\n",
        "A10. In python, string are immutable because once string is created and it can't be change or modify because efficient memory management and hasability."
      ],
      "metadata": {
        "id": "WMzQtPVpE50Y"
      }
    },
    {
      "cell_type": "markdown",
      "source": [
        "11.Q11. What advantages do dictionaries offer over lists for certain tasks?\n",
        "\n",
        "A11. dictionaries offer many advantages over lists for certain tasks:\n",
        "\n",
        "a) In dictionary, it uses key value pair which make it easier to access the element of dictionaries easily.\n",
        "\n",
        "b) In dictionary, key are uniques in dictionaries."
      ],
      "metadata": {
        "id": "r2KaSQ8oFA1W"
      }
    },
    {
      "cell_type": "markdown",
      "source": [
        "12. Q12. Describe a scenario where using a tuple would be preferable over a list.\n",
        "\n",
        " A12. Tuple is preferable over a list because it is immutable.\n",
        "\n",
        " -> In which case where once it created the data stucture cannot be change or modify.\n",
        "\n",
        " -> In otherwords it is a restriction on a data structure to modify ."
      ],
      "metadata": {
        "id": "axhODOUJFHfE"
      }
    },
    {
      "cell_type": "markdown",
      "source": [
        "13. Q13. How do sets handle duplicate values in Python?\n",
        "\n",
        "A13. set are the data structure which hold only the unique element and set discarded the duplicate element.\n",
        "\n",
        "Example :\n",
        "set1 = {1,1,2,3,\"ajay\",\"sumit\",\"ajay\",2,3}\n",
        "print(set1)\n",
        "\n",
        "# output: {1,2,3,\"ajay\",\"sumit\"}\n"
      ],
      "metadata": {
        "id": "oZfXgb5EFUMT"
      }
    },
    {
      "cell_type": "markdown",
      "source": [
        "14. How does the “in” keyword work differently for lists and dictionaries?\n",
        "\n",
        "A14. \"in\" keyword is used for list as it is used to check the element is exist or not.\n",
        "\n",
        "i.)if the element is exist in list and it return True\n",
        "\n",
        " ii).if the element is not exist in list  and it return False.\n",
        "\n",
        "\n",
        "\n",
        " -> \"in\" keyword is used for dictionaries as it is used to check the specific key is present or not.\n",
        "\n",
        "  i.)if the key  is exist in dictionaries and it return True and it can't check the value.\n",
        "\n",
        "  ii.)if the key is not exist in dictionaries and it return False and it can't check the value."
      ],
      "metadata": {
        "id": "CO8VY3d5FhPM"
      }
    },
    {
      "cell_type": "markdown",
      "source": [
        "15. Q15. Can you modify the elements of a tuple? Explain why or why not?\n",
        "\n",
        "A15. The element of tuple can't be modify because it is immutable data structure and doesn;t allow to modify the element or value in the tuple.\n",
        "\n",
        "\n",
        "Example:\n",
        "tuple1 = (1,2,3,\"sumit\",\"pwskill\")\n",
        "\n",
        "tuple1[0] = \"rahul\"\n",
        "\n",
        "output: tuple  object does not support item assignment"
      ],
      "metadata": {
        "id": "ik3lMXKyFxFZ"
      }
    },
    {
      "cell_type": "markdown",
      "source": [
        "16. What is a nested dictionary, and give an example of its use case?\n",
        "\n",
        "A16. Nested dictionary is a dictionary inside another dictionary.\n",
        "\n",
        "->  example : use in office to empolyees data:\n",
        "\n",
        "empolyees =   \n",
        "\n",
        "              {\"employe_1\":{\"Name\": \"Rahul\",\"Age\": 25,\"Contact\": \"9445451510\"},\n",
        "\n",
        "             \"employe_2\":{\"Name\": \"Prajwal\",\"Age\": 26,\"Contact\": \"9445451524\"},\n",
        "\n",
        "             \"empolye_3\":{\"Name\": \"Prashant\",\"Age\": 24,\"Contact\": \"9445351510\"}\n",
        "             }"
      ],
      "metadata": {
        "id": "RT-tb1DyGA6J"
      }
    },
    {
      "cell_type": "markdown",
      "source": [
        "17. Q17. Describe the time complexity of accessing elements in a dictionary?\n",
        "\n",
        "A17. The time complexity of accessing element in a dictioanry is o(1)."
      ],
      "metadata": {
        "id": "r8twJ7lKG_DU"
      }
    },
    {
      "cell_type": "markdown",
      "source": [
        "18. Q18.  In what situations are lists preferred over dictionaries?\n",
        "\n",
        "A18. Situation are lists are preferred over dictionaries are:\n",
        "\n",
        "a). Index retrival is needed.\n",
        "\n",
        "b). when value is needed not the key.\n",
        "\n",
        "c). Iteration based on index\n",
        "\n",
        "d). When position or ordered of element is matter."
      ],
      "metadata": {
        "id": "y8LGS_paHDcx"
      }
    },
    {
      "cell_type": "markdown",
      "source": [
        "19. Q19. Why are dictionaries considered unordered, and how does that affect data retrieval?\n",
        "\n",
        "A19. Dictionaries are considered unordered because  the values is accessed in dictionaries by their key not based on their index.\n",
        "\n",
        "-> Using keys to access the value of dictionaries is very fast because keys works as a indicies to get the values."
      ],
      "metadata": {
        "id": "omGRw-FZHLB9"
      }
    },
    {
      "cell_type": "markdown",
      "source": [
        "20.Explain the difference between a list and a dictionary in terms of data retrieval.\n",
        "\n",
        "A20.  The differce between a list and a dictionary in term of data retrieval are:\n",
        "\n",
        "1). data retrieval in list using the indicies but in dictionaries data retrived using the key not the indicies.\n",
        "\n",
        "Example:    \n",
        "\n",
        "             list1 =[1,2,3,4,5,6]\n",
        "             list1[5] >> it is possible\n",
        "             # output : 6\n",
        "\n",
        "             dict1 = {\"Name\": \"sumit\",\"Age\": 25,\"Contact\": \"954512315\"}\n",
        "             dict1[\"Name\"] >> it is possible\n",
        "            # output: \"Sumit\""
      ],
      "metadata": {
        "id": "_YOs5VEAHSE_"
      }
    },
    {
      "cell_type": "markdown",
      "source": [
        "## Practical Question:"
      ],
      "metadata": {
        "id": "EUzFTOlPHbt4"
      }
    },
    {
      "cell_type": "code",
      "source": [
        "# 1. Write a code to create a string with your name and print it.\n",
        "Name = \"sumit sahu\"\n",
        "print(Name)"
      ],
      "metadata": {
        "colab": {
          "base_uri": "https://localhost:8080/"
        },
        "id": "hsrQmkvIHjjy",
        "outputId": "f93d76c4-76ce-494e-e84d-b701639c423a"
      },
      "execution_count": 1,
      "outputs": [
        {
          "output_type": "stream",
          "name": "stdout",
          "text": [
            "sumit sahu\n"
          ]
        }
      ]
    },
    {
      "cell_type": "code",
      "source": [
        "# 2. Write a code to find the length of the string \"Hello World.\n",
        "len(\"Hello World\")"
      ],
      "metadata": {
        "colab": {
          "base_uri": "https://localhost:8080/"
        },
        "id": "S1eF9dMKHwcu",
        "outputId": "fdd92cba-ce91-4121-d713-9c3f9e899d60"
      },
      "execution_count": 2,
      "outputs": [
        {
          "output_type": "execute_result",
          "data": {
            "text/plain": [
              "11"
            ]
          },
          "metadata": {},
          "execution_count": 2
        }
      ]
    },
    {
      "cell_type": "code",
      "source": [
        "# 3. Write a code to slice the first 3 characters from the string \"Python Programming.\n",
        "str = \"Python Programming\"\n",
        "print(str[0:3]) # it return the first three character from string"
      ],
      "metadata": {
        "colab": {
          "base_uri": "https://localhost:8080/"
        },
        "id": "wt83kVHsH7N8",
        "outputId": "ea4f5aa3-5966-458b-9336-9ebc78d498d5"
      },
      "execution_count": 3,
      "outputs": [
        {
          "output_type": "stream",
          "name": "stdout",
          "text": [
            "Pyt\n"
          ]
        }
      ]
    },
    {
      "cell_type": "code",
      "source": [
        "#4. Write a code to convert the string \"hello\" to uppercase.\n",
        "var =  \"hello\"\n",
        "var.upper()"
      ],
      "metadata": {
        "colab": {
          "base_uri": "https://localhost:8080/",
          "height": 36
        },
        "id": "rxlQXDNBILQq",
        "outputId": "91231272-ebe2-4246-b85f-fc1511149642"
      },
      "execution_count": 4,
      "outputs": [
        {
          "output_type": "execute_result",
          "data": {
            "text/plain": [
              "'HELLO'"
            ],
            "application/vnd.google.colaboratory.intrinsic+json": {
              "type": "string"
            }
          },
          "metadata": {},
          "execution_count": 4
        }
      ]
    },
    {
      "cell_type": "code",
      "source": [
        "# 5.Write a code to replace the word \"apple\" with \"orange\" in the string \"I like apple\":\n",
        "str_1 =  \"I like apple\"\n",
        "str_1.replace(\"apple\",\"orange\")"
      ],
      "metadata": {
        "colab": {
          "base_uri": "https://localhost:8080/",
          "height": 36
        },
        "id": "kNppnPuPLYiQ",
        "outputId": "2323181f-168f-4589-90af-82fcccadab8f"
      },
      "execution_count": 34,
      "outputs": [
        {
          "output_type": "execute_result",
          "data": {
            "text/plain": [
              "'I like orange'"
            ],
            "application/vnd.google.colaboratory.intrinsic+json": {
              "type": "string"
            }
          },
          "metadata": {},
          "execution_count": 34
        }
      ]
    },
    {
      "cell_type": "code",
      "source": [
        "#6. Write a code to create a list with numbers 1 to 5 and print it:\n",
        "\n",
        "list_1 = [1,2,3,4,5]\n",
        "print(list_1)\n"
      ],
      "metadata": {
        "colab": {
          "base_uri": "https://localhost:8080/"
        },
        "id": "6PtHDVcRIRkP",
        "outputId": "fa4f52a8-55be-4884-c83c-920c391efc9d"
      },
      "execution_count": 35,
      "outputs": [
        {
          "output_type": "stream",
          "name": "stdout",
          "text": [
            "[1, 2, 3, 4, 5]\n"
          ]
        }
      ]
    },
    {
      "cell_type": "code",
      "source": [
        "# 7. Write a code to append the number 10 to the list [1, 2, 3, 4]:\n",
        "list1 = [1,2,3,4]\n",
        "list1.append(10)\n",
        "print(list1)"
      ],
      "metadata": {
        "colab": {
          "base_uri": "https://localhost:8080/"
        },
        "id": "YmjJN4miIald",
        "outputId": "dcc0f646-3eb8-4b29-fff8-4f569aae50da"
      },
      "execution_count": 6,
      "outputs": [
        {
          "output_type": "stream",
          "name": "stdout",
          "text": [
            "[1, 2, 3, 4, 10]\n"
          ]
        }
      ]
    },
    {
      "cell_type": "code",
      "source": [
        "# 8.  Write a code to remove the number 3 from the list [1, 2, 3, 4, 5]:\n",
        "list1 =  [1, 2, 3, 4, 5]\n",
        "list1.remove(3)\n",
        "print(list1)"
      ],
      "metadata": {
        "colab": {
          "base_uri": "https://localhost:8080/"
        },
        "id": "WR4ud9RwIjVO",
        "outputId": "5a000feb-7fb0-4933-eada-75cc9d7ba4b3"
      },
      "execution_count": 7,
      "outputs": [
        {
          "output_type": "stream",
          "name": "stdout",
          "text": [
            "[1, 2, 4, 5]\n"
          ]
        }
      ]
    },
    {
      "cell_type": "code",
      "source": [
        "#9. Write a code to access the second element in the list ['a', 'b', 'c', 'd']:\n",
        "list1 = ['a', 'b', 'c', 'd']\n",
        "list1[1]"
      ],
      "metadata": {
        "colab": {
          "base_uri": "https://localhost:8080/",
          "height": 36
        },
        "id": "4Se7BJY8IqJq",
        "outputId": "1f0a3d0c-e99d-4362-ca1a-b7e9784baa8f"
      },
      "execution_count": 10,
      "outputs": [
        {
          "output_type": "execute_result",
          "data": {
            "text/plain": [
              "'b'"
            ],
            "application/vnd.google.colaboratory.intrinsic+json": {
              "type": "string"
            }
          },
          "metadata": {},
          "execution_count": 10
        }
      ]
    },
    {
      "cell_type": "code",
      "source": [
        "#10. Write a code to reverse the list [10, 20, 30, 40, 50]:\n",
        "list1 = [10, 20, 30, 40, 50]\n",
        "print(list1[::-1])"
      ],
      "metadata": {
        "colab": {
          "base_uri": "https://localhost:8080/"
        },
        "id": "zkBv_MGFIwuw",
        "outputId": "d6cfedcc-3530-409e-c455-7ec074c7eb7d"
      },
      "execution_count": 11,
      "outputs": [
        {
          "output_type": "stream",
          "name": "stdout",
          "text": [
            "[50, 40, 30, 20, 10]\n"
          ]
        }
      ]
    },
    {
      "cell_type": "code",
      "source": [
        "#11. Write a code to create a tuple with the elements 100, 200, 300 and print it:\n",
        "tuple1 = (100, 200, 300)\n",
        "print(tuple1)"
      ],
      "metadata": {
        "colab": {
          "base_uri": "https://localhost:8080/"
        },
        "id": "9r-xOc0II5rU",
        "outputId": "673d859b-24fe-4524-98aa-7dde2f7efedf"
      },
      "execution_count": 12,
      "outputs": [
        {
          "output_type": "stream",
          "name": "stdout",
          "text": [
            "(100, 200, 300)\n"
          ]
        }
      ]
    },
    {
      "cell_type": "code",
      "source": [
        "#12. Write a code to access the second-to-last element of the tuple ('red', 'green', 'blue', 'yellow'):\n",
        "tuple1 = ('red', 'green', 'blue', 'yellow')\n",
        "print(tuple1[1:])"
      ],
      "metadata": {
        "colab": {
          "base_uri": "https://localhost:8080/"
        },
        "id": "srytVPtFI9xf",
        "outputId": "4442450e-86e0-4a94-d96b-a203f20a04e5"
      },
      "execution_count": 13,
      "outputs": [
        {
          "output_type": "stream",
          "name": "stdout",
          "text": [
            "('green', 'blue', 'yellow')\n"
          ]
        }
      ]
    },
    {
      "cell_type": "code",
      "source": [
        "#13.Write a code to find the minimum number in the tuple (10, 20, 5, 15):\n",
        "tuple1 = (10, 20, 5, 15)\n",
        "num = min(tuple1)\n",
        "print(num)"
      ],
      "metadata": {
        "colab": {
          "base_uri": "https://localhost:8080/"
        },
        "id": "vz3ecup_JC56",
        "outputId": "50da8a29-eaae-469d-9d20-cf299524f3e1"
      },
      "execution_count": 14,
      "outputs": [
        {
          "output_type": "stream",
          "name": "stdout",
          "text": [
            "5\n"
          ]
        }
      ]
    },
    {
      "cell_type": "code",
      "source": [
        "#14. Write a code to find the index of the element \"cat\" in the tuple ('dog', 'cat', 'rabbit').\n",
        "tuple1 =  ('dog', 'cat', 'rabbit')\n",
        "tuple1.index(\"cat\")"
      ],
      "metadata": {
        "colab": {
          "base_uri": "https://localhost:8080/"
        },
        "id": "ILOUP5pTJMFq",
        "outputId": "7db478af-3064-4c87-b64d-368f5dc0ac01"
      },
      "execution_count": 15,
      "outputs": [
        {
          "output_type": "execute_result",
          "data": {
            "text/plain": [
              "1"
            ]
          },
          "metadata": {},
          "execution_count": 15
        }
      ]
    },
    {
      "cell_type": "code",
      "source": [
        "#15. Write a code to create a tuple containing three different fruits and check if \"kiwi\" is in it:\n",
        "tuple1 = (\"watermelon\",\"kiwi\",\"mango\")\n",
        "\"kiwi\" in tuple1"
      ],
      "metadata": {
        "colab": {
          "base_uri": "https://localhost:8080/"
        },
        "id": "Qp3EMa6RJRtU",
        "outputId": "004b4455-a50a-4f4d-c570-e90f54eead24"
      },
      "execution_count": 16,
      "outputs": [
        {
          "output_type": "execute_result",
          "data": {
            "text/plain": [
              "True"
            ]
          },
          "metadata": {},
          "execution_count": 16
        }
      ]
    },
    {
      "cell_type": "code",
      "source": [
        "#16.  Write a code to create a set with the elements 'a', 'b', 'c' and print it.\n",
        "set1 = {\"a\",\"b\",\"c\"}\n",
        "print(set1)"
      ],
      "metadata": {
        "colab": {
          "base_uri": "https://localhost:8080/"
        },
        "id": "hM9UgLisMlkq",
        "outputId": "dc971694-c16e-460e-ac48-65d2501acf23"
      },
      "execution_count": 37,
      "outputs": [
        {
          "output_type": "stream",
          "name": "stdout",
          "text": [
            "{'c', 'a', 'b'}\n"
          ]
        }
      ]
    },
    {
      "cell_type": "code",
      "source": [
        "#17. Write a code to clear all elements from the set {1, 2, 3, 4, 5}:\n",
        "set1 = {1, 2, 3, 4, 5}\n",
        "set1.clear()\n",
        "print(set1)"
      ],
      "metadata": {
        "colab": {
          "base_uri": "https://localhost:8080/"
        },
        "id": "Uz92mEBmJV3l",
        "outputId": "2231b009-a1bd-4253-fcfd-878850d4071d"
      },
      "execution_count": 17,
      "outputs": [
        {
          "output_type": "stream",
          "name": "stdout",
          "text": [
            "set()\n"
          ]
        }
      ]
    },
    {
      "cell_type": "code",
      "source": [
        "#18. Write a code to remove the element 4 from the set {1, 2, 3, 4}\n",
        "set1 = {1, 2, 3, 4}\n",
        "set1.remove(4)\n",
        "print(set1)"
      ],
      "metadata": {
        "colab": {
          "base_uri": "https://localhost:8080/"
        },
        "id": "Rr982ps7Jbkj",
        "outputId": "dc6e009b-dbaf-49fc-846b-bee5b8fabfbb"
      },
      "execution_count": 18,
      "outputs": [
        {
          "output_type": "stream",
          "name": "stdout",
          "text": [
            "{1, 2, 3}\n"
          ]
        }
      ]
    },
    {
      "cell_type": "code",
      "source": [
        "#19. Write a code to find the union of two sets {1, 2, 3} and {3, 4, 5}.\n",
        "set1 = {1, 2, 3}\n",
        "set2 = {3, 4, 5}\n",
        "print(set1|set2)"
      ],
      "metadata": {
        "colab": {
          "base_uri": "https://localhost:8080/"
        },
        "id": "TdbH0L__JiDD",
        "outputId": "fe1c9cb8-e712-4acd-ac1e-28885fefbbd3"
      },
      "execution_count": 19,
      "outputs": [
        {
          "output_type": "stream",
          "name": "stdout",
          "text": [
            "{1, 2, 3, 4, 5}\n"
          ]
        }
      ]
    },
    {
      "cell_type": "code",
      "source": [
        "#20. Write a code to find the intersection of two sets {1, 2, 3} and {2, 3, 4}.\n",
        "set1 = {1, 2, 3}\n",
        "set2 = {2, 3, 4}\n",
        "print(set1&set2)"
      ],
      "metadata": {
        "colab": {
          "base_uri": "https://localhost:8080/"
        },
        "id": "J8UD4ZL6JmbE",
        "outputId": "ece249d7-e9ce-45b8-e6ad-550b92b92b47"
      },
      "execution_count": 20,
      "outputs": [
        {
          "output_type": "stream",
          "name": "stdout",
          "text": [
            "{2, 3}\n"
          ]
        }
      ]
    },
    {
      "cell_type": "code",
      "source": [
        "#21. Write a code to create a dictionary with the keys \"name\", \"age\", and \"city\", and print it:\n",
        "dict1 ={\"name\":\"sumit\", \"age\": \"30\", \"city\": \"noida\"}\n",
        "print(dict1)"
      ],
      "metadata": {
        "colab": {
          "base_uri": "https://localhost:8080/"
        },
        "id": "2NQbn5swJtrt",
        "outputId": "fbc95a67-a37c-4146-ae1f-3cf5700e8319"
      },
      "execution_count": 21,
      "outputs": [
        {
          "output_type": "stream",
          "name": "stdout",
          "text": [
            "{'name': 'sumit', 'age': '30', 'city': 'noida'}\n"
          ]
        }
      ]
    },
    {
      "cell_type": "code",
      "source": [
        "#22. Write a code to add a new key-value pair \"country\": \"USA\" to the dictionary {'name': 'John', 'age': 25}:\n",
        "dict1 = {'name': 'John', 'age': 25}\n",
        "dict1[\"coutry\"] = \"USA\"\n",
        "print(dict1)"
      ],
      "metadata": {
        "colab": {
          "base_uri": "https://localhost:8080/"
        },
        "id": "9V5FcsXyJyJD",
        "outputId": "c157044b-3f77-455a-8a3d-e7f02fff051c"
      },
      "execution_count": 22,
      "outputs": [
        {
          "output_type": "stream",
          "name": "stdout",
          "text": [
            "{'name': 'John', 'age': 25, 'coutry': 'USA'}\n"
          ]
        }
      ]
    },
    {
      "cell_type": "code",
      "source": [
        "#23.Write a code to access the value associated with the key \"name\" in the dictionary {'name': 'Alice', 'age': 30}:\n",
        "dict1 = {'name': 'Alice', 'age': 30}\n",
        "dict1[\"name\"]"
      ],
      "metadata": {
        "colab": {
          "base_uri": "https://localhost:8080/",
          "height": 36
        },
        "id": "s_QPPn6DJ3WG",
        "outputId": "557ba885-e598-4c38-9e8f-5ba6f6def28e"
      },
      "execution_count": 23,
      "outputs": [
        {
          "output_type": "execute_result",
          "data": {
            "text/plain": [
              "'Alice'"
            ],
            "application/vnd.google.colaboratory.intrinsic+json": {
              "type": "string"
            }
          },
          "metadata": {},
          "execution_count": 23
        }
      ]
    },
    {
      "cell_type": "code",
      "source": [
        "#24.Write a code to remove the key \"age\" from the dictionary {'name': 'Bob', 'age': 22, 'city': 'New York'}\n",
        "dict1 = {'name': 'Bob', 'age': 22, 'city': 'New York'}\n",
        "dict1.pop(\"age\")\n",
        "print(dict1)"
      ],
      "metadata": {
        "colab": {
          "base_uri": "https://localhost:8080/"
        },
        "id": "nTuQu5QNJ8QL",
        "outputId": "cb698bb4-c19e-4882-945f-122a04ef395a"
      },
      "execution_count": 24,
      "outputs": [
        {
          "output_type": "stream",
          "name": "stdout",
          "text": [
            "{'name': 'Bob', 'city': 'New York'}\n"
          ]
        }
      ]
    },
    {
      "cell_type": "code",
      "source": [
        "#25. Write a code to check if the key \"city\" exists in the dictionary {'name': 'Alice', 'city': 'Paris'}:\n",
        "dict1 =  {'name': 'Alice', 'city': 'Paris'}\n",
        "\"city\" in dict1"
      ],
      "metadata": {
        "colab": {
          "base_uri": "https://localhost:8080/"
        },
        "id": "FX1n8qhjKCdY",
        "outputId": "77a1dcc9-a735-4386-fd7e-fa127e408974"
      },
      "execution_count": 25,
      "outputs": [
        {
          "output_type": "execute_result",
          "data": {
            "text/plain": [
              "True"
            ]
          },
          "metadata": {},
          "execution_count": 25
        }
      ]
    },
    {
      "cell_type": "code",
      "source": [
        "#26. Write a code to create a list, a tuple, and a dictionary, and print them all:\n",
        "list1 = [10,20,30,\"sumit\"]\n",
        "tuple1 = (10,20,30,\"ajay\")\n",
        "dict1 = {\"name\": \"sumit\",\"age\": 25,\"city\": \"greater noida\"}\n",
        "print(list1)\n",
        "print(tuple1)\n",
        "print(dict1)"
      ],
      "metadata": {
        "colab": {
          "base_uri": "https://localhost:8080/"
        },
        "id": "HxFbhD_5KJBi",
        "outputId": "63d8fa86-d97f-4f39-c2f7-23f09bc5d676"
      },
      "execution_count": 26,
      "outputs": [
        {
          "output_type": "stream",
          "name": "stdout",
          "text": [
            "[10, 20, 30, 'sumit']\n",
            "(10, 20, 30, 'ajay')\n",
            "{'name': 'sumit', 'age': 25, 'city': 'greater noida'}\n"
          ]
        }
      ]
    },
    {
      "cell_type": "code",
      "source": [
        "#27.Write a code to create a list of 5 random numbers between 1 and 100, sort it in ascending order, and print the result.(replaced)\n",
        "\n",
        "list1 = [10,100,70,25,3]\n",
        "print(sorted(list1))"
      ],
      "metadata": {
        "colab": {
          "base_uri": "https://localhost:8080/"
        },
        "id": "PBwDjuVTKOKb",
        "outputId": "184c199c-003c-40ae-f063-85f9b2c42477"
      },
      "execution_count": 28,
      "outputs": [
        {
          "output_type": "stream",
          "name": "stdout",
          "text": [
            "[3, 10, 25, 70, 100]\n"
          ]
        }
      ]
    },
    {
      "cell_type": "code",
      "source": [
        "#28.  Write a code to create a list with strings and print the element at the third index:\n",
        "list1 = [\"sumit\",\"ajay\",\"piyush\",\"rahul\",\"prajwal\"]\n",
        "print(list1[3])"
      ],
      "metadata": {
        "colab": {
          "base_uri": "https://localhost:8080/"
        },
        "id": "0LJMd4b8KSY5",
        "outputId": "1d6eace4-f5a7-4dfe-9a74-0c6d320432b6"
      },
      "execution_count": 29,
      "outputs": [
        {
          "output_type": "stream",
          "name": "stdout",
          "text": [
            "rahul\n"
          ]
        }
      ]
    },
    {
      "cell_type": "code",
      "source": [
        "# 29. Write a code to combine two dictionaries into one and print the result:\n",
        "dict1 = {\"name\": \"sumit\",\"age\":23,\"city\": \"noida\"}\n",
        "dict2 = {\"product\": \"tablet\",\"ram\": \"4gb\",\"warranty\": \"1 year\"}\n",
        "print(dict1.combine(dict2))"
      ],
      "metadata": {
        "colab": {
          "base_uri": "https://localhost:8080/",
          "height": 176
        },
        "id": "uPUYxU_8KbYN",
        "outputId": "56593d03-b674-4285-840f-29dee0ed4898"
      },
      "execution_count": 30,
      "outputs": [
        {
          "output_type": "error",
          "ename": "AttributeError",
          "evalue": "'dict' object has no attribute 'combine'",
          "traceback": [
            "\u001b[0;31m---------------------------------------------------------------------------\u001b[0m",
            "\u001b[0;31mAttributeError\u001b[0m                            Traceback (most recent call last)",
            "\u001b[0;32m<ipython-input-30-188f87ebef37>\u001b[0m in \u001b[0;36m<cell line: 0>\u001b[0;34m()\u001b[0m\n\u001b[1;32m      2\u001b[0m \u001b[0mdict1\u001b[0m \u001b[0;34m=\u001b[0m \u001b[0;34m{\u001b[0m\u001b[0;34m\"name\"\u001b[0m\u001b[0;34m:\u001b[0m \u001b[0;34m\"sumit\"\u001b[0m\u001b[0;34m,\u001b[0m\u001b[0;34m\"age\"\u001b[0m\u001b[0;34m:\u001b[0m\u001b[0;36m23\u001b[0m\u001b[0;34m,\u001b[0m\u001b[0;34m\"city\"\u001b[0m\u001b[0;34m:\u001b[0m \u001b[0;34m\"noida\"\u001b[0m\u001b[0;34m}\u001b[0m\u001b[0;34m\u001b[0m\u001b[0;34m\u001b[0m\u001b[0m\n\u001b[1;32m      3\u001b[0m \u001b[0mdict2\u001b[0m \u001b[0;34m=\u001b[0m \u001b[0;34m{\u001b[0m\u001b[0;34m\"product\"\u001b[0m\u001b[0;34m:\u001b[0m \u001b[0;34m\"tablet\"\u001b[0m\u001b[0;34m,\u001b[0m\u001b[0;34m\"ram\"\u001b[0m\u001b[0;34m:\u001b[0m \u001b[0;34m\"4gb\"\u001b[0m\u001b[0;34m,\u001b[0m\u001b[0;34m\"warranty\"\u001b[0m\u001b[0;34m:\u001b[0m \u001b[0;34m\"1 year\"\u001b[0m\u001b[0;34m}\u001b[0m\u001b[0;34m\u001b[0m\u001b[0;34m\u001b[0m\u001b[0m\n\u001b[0;32m----> 4\u001b[0;31m \u001b[0mprint\u001b[0m\u001b[0;34m(\u001b[0m\u001b[0mdict1\u001b[0m\u001b[0;34m.\u001b[0m\u001b[0mcombine\u001b[0m\u001b[0;34m(\u001b[0m\u001b[0mdict2\u001b[0m\u001b[0;34m)\u001b[0m\u001b[0;34m)\u001b[0m\u001b[0;34m\u001b[0m\u001b[0;34m\u001b[0m\u001b[0m\n\u001b[0m",
            "\u001b[0;31mAttributeError\u001b[0m: 'dict' object has no attribute 'combine'"
          ]
        }
      ]
    },
    {
      "cell_type": "code",
      "source": [
        "#30.Write a code to convert a list of strings into a set:\n",
        "list1 = [\"sumit\",\"rahul\",\"prajwal\"]\n",
        "print(set(list1))"
      ],
      "metadata": {
        "colab": {
          "base_uri": "https://localhost:8080/"
        },
        "id": "WkwuMiseKgDb",
        "outputId": "7f9fc6a3-4a03-42ef-debf-e123766b1446"
      },
      "execution_count": 31,
      "outputs": [
        {
          "output_type": "stream",
          "name": "stdout",
          "text": [
            "{'sumit', 'rahul', 'prajwal'}\n"
          ]
        }
      ]
    }
  ]
}