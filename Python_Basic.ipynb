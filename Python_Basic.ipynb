{
  "nbformat": 4,
  "nbformat_minor": 0,
  "metadata": {
    "colab": {
      "provenance": []
    },
    "kernelspec": {
      "name": "python3",
      "display_name": "Python 3"
    },
    "language_info": {
      "name": "python"
    }
  },
  "cells": [
    {
      "cell_type": "markdown",
      "source": [
        "# ***Theory Question***"
      ],
      "metadata": {
        "id": "mLa8csS7q8gg"
      }
    },
    {
      "cell_type": "markdown",
      "source": [
        "Q1. What is Python and why is it popular ?\n",
        "\n",
        " A1. Python is a high level language which is used to  execute the instruction in a computer and it is popular because of it libraries like numpy, pandas,etc it has vast use in artifical intelligence and data science."
      ],
      "metadata": {
        "id": "lrNOLa-PnzLY"
      }
    },
    {
      "cell_type": "markdown",
      "source": [
        "Q2. What is an interpreter in Python ?\n",
        "\n",
        "A2. Interpreter in python is used to execute the instruction of the program line by line and if any error occur it indicate and further does not execute the program."
      ],
      "metadata": {
        "id": "0nEvr_O8n_S6"
      }
    },
    {
      "cell_type": "markdown",
      "source": [
        "Q3. What are pre-defined keywords in Python ?\n",
        "\n",
        "A3. In python there are several predifened keyword which we are not used as variable and it give error if we use as variable.\n",
        "Example : if is a predifened variable we can't used as variable in python."
      ],
      "metadata": {
        "id": "EtePgcyAoDtO"
      }
    },
    {
      "cell_type": "markdown",
      "source": [
        "Q4. Can keywords be used as variable names ?\n",
        "\n",
        "A4. Keyword cannot be used as variable because it gives error, in python there are several predifened variable and cannot be used as a variable.\n",
        "Example : int is predifened keyword which is used as data type and cannot be used ass variable."
      ],
      "metadata": {
        "id": "DeEsig1_oJKE"
      }
    },
    {
      "cell_type": "markdown",
      "source": [
        "Q5. What is mutability in Python ?\n",
        "\n",
        "A5. Mutability is  refered as an object can change after it created.\n",
        "Example: List is data structure which is mutable and other data type such as tuple which is not mutable in python."
      ],
      "metadata": {
        "id": "u1rPbAb_oOP7"
      }
    },
    {
      "cell_type": "markdown",
      "source": [
        "Q6. Why are lists mutable, but tuples are immutable ?\n",
        "\n",
        "A6. 6. List is mutable because element in the list have ability to change it's order and reassign the element in the list.\n",
        "But, tuple is immutable because tuple cannot change as a list.\n",
        "\n",
        "Example:\n",
        "\n",
        "list_1 =  [1,2,3,\"Sumit\",\"Ajay\"]\n",
        "\n",
        " list_1[2] = \"Ram\"\n",
        "\n",
        "list_1 = [1,2,\"Ram\",\"Sumit\",\"Ajay\"]\n",
        "\n",
        "So, above example show list is mutable but we cannot do as in tuple."
      ],
      "metadata": {
        "id": "CY1URmJkoSch"
      }
    },
    {
      "cell_type": "markdown",
      "source": [
        "Q7. What is the difference between “==” and “is” operators in Python ?\n",
        "\n",
        "A7.  \"==\" is a equality operator which is used to comapare the two objects, it give true if they are equal.\n",
        "\n",
        "\n",
        "\"is\" operator is a identity operator and it is used for location of the same type of object."
      ],
      "metadata": {
        "id": "9AZR5UnfotMh"
      }
    },
    {
      "cell_type": "markdown",
      "source": [
        "Q8. What are logical operators in Python ?\n",
        "\n",
        "A8. Logical operators atre used to perform logical operation on boolean values.\n",
        "\n",
        "->There are three types of logical operator are:\n",
        "\n",
        "a) and operator: This operator is used when required to fill both condition, then it give in return        True value.\n",
        "\n",
        "Example: print(True and True) -> True\n",
        "\n",
        "b) or operator: This operator is used when if any one condition is true,then it give in return true.\n",
        "\n",
        "Example: print(True or True) -> True\n",
        "\n",
        "c) not operator: This operator is used when to revert the output.\n",
        "Example: print(not True) -> False"
      ],
      "metadata": {
        "id": "SWiexA8Lozns"
      }
    },
    {
      "cell_type": "markdown",
      "source": [
        "Q9. What is type casting in Python ?\n",
        "\n",
        "A9. In python,type casting is used to convert the one data type into other data type.\n",
        "\n",
        "Example: \"1587\" it is a string data type and using type casting to convert it into integer\n",
        "int(\"1587\") -> 1587"
      ],
      "metadata": {
        "id": "3bNAHs0YpHGu"
      }
    },
    {
      "cell_type": "markdown",
      "source": [
        "Q10. What is the difference between implicit and explicit type casting ?\n",
        "\n",
        "A10. The difference between implicty and explicit type casting are:  \n",
        "\n",
        "a)Implict type casting - It is a type Casting in which it convert automatically one data type to another data type without taking programmer instruction.\n",
        "In implicit type casting there is no data loss occur.\n",
        "\n",
        "Example: 15(it is integer data type)\n",
        "and conevert it float automatically when required - 15.\n",
        "\n",
        "0(Now it is a float data type)\n",
        "\n",
        "\n",
        "b)Explicit type casting - It is a type Casting in which it convert the one data type to another data type by taking programmer instruction.\n",
        "In explicit type casting, may or may not be data loss occur.\n",
        "\n",
        "Example: 15.0 convert it into integer\n",
        "        int(15.0) -> 15 now it is integer\n"
      ],
      "metadata": {
        "id": "gIaTNSS4pPY9"
      }
    },
    {
      "cell_type": "markdown",
      "source": [
        "Q11. What is the purpose of conditional statements in Python ?\n",
        "\n",
        "A11. The purpose of conditional statement in python is to control the flow of program and execute the different block of program based on condition.\n",
        "\n",
        "\n",
        "Example: if num%2 == 0:\n",
        "\n",
        " print(\"even number\")\n",
        "\n",
        "else:\n",
        "\n",
        "print(\"odd number\")\n",
        "             "
      ],
      "metadata": {
        "id": "GchiR3W-ph_o"
      }
    },
    {
      "cell_type": "markdown",
      "source": [
        "Q12. How does the elif statement work ?\n",
        "\n",
        "A12. In program, there are different blocks to execute based on their condition so in python to execute mutilple statement using elif statement.\n",
        "It sequentially execute the statements, firstly execute the if statement if it false then execute the another statement.\n",
        "\n",
        "\n",
        "Example:\n",
        " if num>=10:\n",
        "\n",
        "print(\"number is greater than or equal to 10\")\n",
        "\n",
        "elif num >=5:\n",
        "\n",
        "print(\"number is greater than or equal to 5\")\n",
        "\n",
        "else:\n",
        "\n",
        "print(\"number is less than 5\")"
      ],
      "metadata": {
        "id": "3Yx9osOBpuz5"
      }
    },
    {
      "cell_type": "markdown",
      "source": [
        "Q13. What is the difference between for and while loops ?\n",
        "\n",
        "A13. while loop -> it is a repeat block of code and it is repeat until the condition is meet.\n",
        "     In while loop there is a synatx different from the for loop.\n",
        "\n",
        "Example:\n",
        "\n",
        "     i = 1\n",
        "     while 4>i:\n",
        "      print(\"hlo\")\n",
        "      i = i+1\n",
        "\n",
        "-> for loop - it is a block of code exeute when know about the iteration of the object.\n",
        "\n",
        "In for loop syntax is different from the while loop.\n",
        "\n",
        "Example:\n",
        "\n",
        "     for i in range(0,10):\n",
        "      print(i)"
      ],
      "metadata": {
        "id": "kXATKMabqFys"
      }
    },
    {
      "cell_type": "markdown",
      "source": [
        "Q14.  Describe a scenario where a while loop is more suitable than a for loop.\n",
        "\n",
        "A14.  while loop is more suitable than a for loop when we don't know the iteration of the loop means we don't how many time the loop will execute.\n",
        "\n",
        "But we know the condition and the loop is executed until the condition of the loop is met."
      ],
      "metadata": {
        "id": "CSLAZhHrqYOF"
      }
    },
    {
      "cell_type": "markdown",
      "source": [
        "# ***Practical*** ***Question***"
      ],
      "metadata": {
        "id": "-I9Mp8b_qzN3"
      }
    },
    {
      "cell_type": "code",
      "source": [
        "# 1.Write a Python program to print \"Hello, World!\n",
        "print(\"Hello, World!\")"
      ],
      "metadata": {
        "colab": {
          "base_uri": "https://localhost:8080/"
        },
        "id": "rAceoclFrK75",
        "outputId": "8018887f-c26e-4b42-fee7-8bd686a3a399"
      },
      "execution_count": 1,
      "outputs": [
        {
          "output_type": "stream",
          "name": "stdout",
          "text": [
            "Hello, World!\n"
          ]
        }
      ]
    },
    {
      "cell_type": "code",
      "source": [
        "# 2.Write a Python program that displays your name and\n",
        "Name = \"sumit Sahu\"\n",
        "Age = 21\n",
        "print(\"Name: \",Name)\n",
        "print(\"Age : \",Age)"
      ],
      "metadata": {
        "colab": {
          "base_uri": "https://localhost:8080/"
        },
        "id": "0i2V1wGArSvY",
        "outputId": "73c7870f-e378-4a2d-c65e-b70049574fbd"
      },
      "execution_count": 2,
      "outputs": [
        {
          "output_type": "stream",
          "name": "stdout",
          "text": [
            "Name:  sumit Sahu\n",
            "Age :  21\n"
          ]
        }
      ]
    },
    {
      "cell_type": "code",
      "source": [
        "# 3.Write code to print all the pre-defined keywords in Python using the keyword library\n",
        "import keyword\n",
        "keyword_list = keyword.kwlist\n",
        "for i in keyword_list:\n",
        "    print(i)"
      ],
      "metadata": {
        "colab": {
          "base_uri": "https://localhost:8080/"
        },
        "id": "Dlbepyk8rXRX",
        "outputId": "6a5601a7-e01f-402b-bba9-4490269b308f"
      },
      "execution_count": 3,
      "outputs": [
        {
          "output_type": "stream",
          "name": "stdout",
          "text": [
            "False\n",
            "None\n",
            "True\n",
            "and\n",
            "as\n",
            "assert\n",
            "async\n",
            "await\n",
            "break\n",
            "class\n",
            "continue\n",
            "def\n",
            "del\n",
            "elif\n",
            "else\n",
            "except\n",
            "finally\n",
            "for\n",
            "from\n",
            "global\n",
            "if\n",
            "import\n",
            "in\n",
            "is\n",
            "lambda\n",
            "nonlocal\n",
            "not\n",
            "or\n",
            "pass\n",
            "raise\n",
            "return\n",
            "try\n",
            "while\n",
            "with\n",
            "yield\n"
          ]
        }
      ]
    },
    {
      "cell_type": "code",
      "source": [
        "# 4.Write a program that checks if a given word is a Python keyword.\n",
        "import keyword\n",
        "given_word = \"if\"\n",
        "keywords_list = keyword.kwlist\n",
        "if given_word in keyword_list:\n",
        "    print(given_word,\"is a predefined keyword in python\")"
      ],
      "metadata": {
        "colab": {
          "base_uri": "https://localhost:8080/"
        },
        "id": "pQtO8YM4rZP2",
        "outputId": "af5ef1ae-47e1-4fa8-a91e-b30223323d9d"
      },
      "execution_count": 4,
      "outputs": [
        {
          "output_type": "stream",
          "name": "stdout",
          "text": [
            "if is a predefined keyword in python\n"
          ]
        }
      ]
    },
    {
      "cell_type": "code",
      "source": [
        "'''5.Create a list and tuple in Python, and demonstrate how attempting to change an element works differently\n",
        "for each'''\n",
        "list_1 = [1,2,3,4,\"sumit\",\"Rahul\",\"Prashant\"]\n",
        "list_1[6] = \"Prajwal\" # here change the element in the list\n",
        "print(list_1)\n",
        "tuple_1 = (1,2,3,4,\"sumit\",\"Rahul\",\"Prashant\")\n",
        "tuple_1(2) == \"Prajwal\" # it give error because in tuple is immutable data structure\n"
      ],
      "metadata": {
        "colab": {
          "base_uri": "https://localhost:8080/",
          "height": 193
        },
        "id": "ML13aFnXrete",
        "outputId": "52ce05f3-644d-4e44-f9d0-bb57cab680e5"
      },
      "execution_count": 5,
      "outputs": [
        {
          "output_type": "stream",
          "name": "stdout",
          "text": [
            "[1, 2, 3, 4, 'sumit', 'Rahul', 'Prajwal']\n"
          ]
        },
        {
          "output_type": "error",
          "ename": "TypeError",
          "evalue": "'tuple' object is not callable",
          "traceback": [
            "\u001b[0;31m---------------------------------------------------------------------------\u001b[0m",
            "\u001b[0;31mTypeError\u001b[0m                                 Traceback (most recent call last)",
            "\u001b[0;32m<ipython-input-5-0b09786099fb>\u001b[0m in \u001b[0;36m<cell line: 0>\u001b[0;34m()\u001b[0m\n\u001b[1;32m      5\u001b[0m \u001b[0mprint\u001b[0m\u001b[0;34m(\u001b[0m\u001b[0mlist_1\u001b[0m\u001b[0;34m)\u001b[0m\u001b[0;34m\u001b[0m\u001b[0;34m\u001b[0m\u001b[0m\n\u001b[1;32m      6\u001b[0m \u001b[0mtuple_1\u001b[0m \u001b[0;34m=\u001b[0m \u001b[0;34m(\u001b[0m\u001b[0;36m1\u001b[0m\u001b[0;34m,\u001b[0m\u001b[0;36m2\u001b[0m\u001b[0;34m,\u001b[0m\u001b[0;36m3\u001b[0m\u001b[0;34m,\u001b[0m\u001b[0;36m4\u001b[0m\u001b[0;34m,\u001b[0m\u001b[0;34m\"sumit\"\u001b[0m\u001b[0;34m,\u001b[0m\u001b[0;34m\"Rahul\"\u001b[0m\u001b[0;34m,\u001b[0m\u001b[0;34m\"Prashant\"\u001b[0m\u001b[0;34m)\u001b[0m\u001b[0;34m\u001b[0m\u001b[0;34m\u001b[0m\u001b[0m\n\u001b[0;32m----> 7\u001b[0;31m \u001b[0mtuple_1\u001b[0m\u001b[0;34m(\u001b[0m\u001b[0;36m2\u001b[0m\u001b[0;34m)\u001b[0m \u001b[0;34m==\u001b[0m \u001b[0;34m\"Prajwal\"\u001b[0m \u001b[0;31m# it give error because in tuple is immutable data structure\u001b[0m\u001b[0;34m\u001b[0m\u001b[0;34m\u001b[0m\u001b[0m\n\u001b[0m",
            "\u001b[0;31mTypeError\u001b[0m: 'tuple' object is not callable"
          ]
        }
      ]
    },
    {
      "cell_type": "code",
      "source": [
        "#7.  Write a program that performs basic arithmetic operations on two user-input numbers.\n",
        "first_number = int(input(\"Enter the first number for arithhmetic operation: \"))\n",
        "second_number =  int(input(\"Enter the second number for arithhmetic operation: \"))\n",
        "# Basic Arithmetic operation are:\n",
        "print(\"Addition of\",first_number,\"and\",second_number,\"number: \",first_number + second_number)\n",
        "print(\"Subtraction of\",first_number,\"and\",second_number,\"number: \",first_number - second_number)\n",
        "print(\"Division of\",first_number,\"and\",second_number,\"number: \",first_number / second_number)\n",
        "print(\"Multiplication of\",first_number,\"and\",second_number,\"number: \",first_number * second_number)\n",
        "print(\"Modulus of\",first_number,\"and\",second_number,\"number: \",first_number % second_number)"
      ],
      "metadata": {
        "colab": {
          "base_uri": "https://localhost:8080/"
        },
        "id": "c9GGTClWrijG",
        "outputId": "24e328e4-8268-461e-c929-32dbfae7b7cb"
      },
      "execution_count": 6,
      "outputs": [
        {
          "output_type": "stream",
          "name": "stdout",
          "text": [
            "Enter the first number for arithhmetic operation: 10\n",
            "Enter the second number for arithhmetic operation: 5\n",
            "Addition of 10 and 5 number:  15\n",
            "Subtraction of 10 and 5 number:  5\n",
            "Division of 10 and 5 number:  2.0\n",
            "Multiplication of 10 and 5 number:  50\n",
            "Modulus of 10 and 5 number:  0\n"
          ]
        }
      ]
    },
    {
      "cell_type": "code",
      "source": [
        "#8. Write a program to demonstrate the use of logical operators\n",
        "# logical And:\n",
        "print(True and True)\n",
        "print(True and False)\n",
        "print(False and True)\n",
        "print(False and False)\n",
        "# logical Or:\n",
        "print(True or True)\n",
        "print(True or False)\n",
        "print(False or True)\n",
        "print(False or False)\n",
        "#logical Not:\n",
        "print( not True)\n",
        "print( not False)"
      ],
      "metadata": {
        "colab": {
          "base_uri": "https://localhost:8080/"
        },
        "id": "SxZmHDhRrp4q",
        "outputId": "bd8e2d95-1dee-42cd-846a-d6ddef13ddb8"
      },
      "execution_count": 7,
      "outputs": [
        {
          "output_type": "stream",
          "name": "stdout",
          "text": [
            "True\n",
            "False\n",
            "False\n",
            "False\n",
            "True\n",
            "True\n",
            "True\n",
            "False\n",
            "False\n",
            "True\n"
          ]
        }
      ]
    },
    {
      "cell_type": "code",
      "source": [
        "#9. Write a Python program to convert user input from string to integer, float, and boolean types.\n",
        "# convert the string into integer:\n",
        "number_1 = int(input(\"Enter the number: \"))\n",
        "number_2 = float(input(\"Enter the number: \"))\n",
        "number_3 = bool(input(\"Enter the number \"))\n",
        "print(number_1)\n",
        "print(number_2)\n",
        "print(number_3)"
      ],
      "metadata": {
        "colab": {
          "base_uri": "https://localhost:8080/"
        },
        "id": "l_-LQ76zrtsN",
        "outputId": "6f55631c-c1fb-4374-f575-a01c2549e1bb"
      },
      "execution_count": 8,
      "outputs": [
        {
          "output_type": "stream",
          "name": "stdout",
          "text": [
            "Enter the number: 55\n",
            "Enter the number: 60\n",
            "Enter the number 10\n",
            "55\n",
            "60.0\n",
            "True\n"
          ]
        }
      ]
    },
    {
      "cell_type": "code",
      "source": [
        "#10. Write code to demonstrate type casting with list elements.\n",
        "str = input(\"Enter the string: \")\n",
        "#convert the string into the integer:\n",
        "print(\"Type Casting of string into integer: \")\n",
        "print(int(str))"
      ],
      "metadata": {
        "colab": {
          "base_uri": "https://localhost:8080/"
        },
        "id": "JVyaDAB9r0yg",
        "outputId": "8d27109c-d214-481d-e329-4ed8b5bd8ec4"
      },
      "execution_count": 9,
      "outputs": [
        {
          "output_type": "stream",
          "name": "stdout",
          "text": [
            "Enter the string: 55\n",
            "Type Casting of string into integer: \n",
            "55\n"
          ]
        }
      ]
    },
    {
      "cell_type": "code",
      "source": [
        "#11. Write a program that checks if a number is positive, negative, or zero.\n",
        "number_1 = int(input(\"Enter the number: \"))\n",
        "if number_1 > 0:\n",
        "    print(\"Positive Number\")\n",
        "elif number_1 < 0:\n",
        "    print(\"Negative Number\")\n",
        "else:\n",
        "    print(\"Zero Number\")"
      ],
      "metadata": {
        "colab": {
          "base_uri": "https://localhost:8080/"
        },
        "id": "0DL9vIdCr6pU",
        "outputId": "30ed770f-e04d-4861-ad30-c2f3c6c669c6"
      },
      "execution_count": 10,
      "outputs": [
        {
          "output_type": "stream",
          "name": "stdout",
          "text": [
            "Enter the number: 10\n",
            "Positive Number\n"
          ]
        }
      ]
    },
    {
      "cell_type": "code",
      "source": [
        "#13.  Write a Python program to find the sum of all even numbers between 1 and 50.\n",
        "sum = 0\n",
        "for i in range(1,51):\n",
        "    if i%2 == 0:\n",
        "        sum = sum + i\n",
        "print(\"Sum of even number between 1 and 50: \",sum)"
      ],
      "metadata": {
        "colab": {
          "base_uri": "https://localhost:8080/"
        },
        "id": "1XDx5sJjr-pO",
        "outputId": "e54b74f1-f172-493d-bbc8-ab7f7f9fc136"
      },
      "execution_count": 11,
      "outputs": [
        {
          "output_type": "stream",
          "name": "stdout",
          "text": [
            "Sum of even number between 1 and 50:  650\n"
          ]
        }
      ]
    },
    {
      "cell_type": "code",
      "source": [
        "#14. Write a program to reverse a string using a while loop.\n",
        "str = \"sumit\"\n",
        "reversed_string = \"\"\n",
        "length_str = len(str) - 1\n",
        "while length_str >= 0:\n",
        "    reversed_string = reversed_string + str[length_str]\n",
        "    length_str = length_str - 1\n",
        "print(\"Reversed of a string: \",reversed_string)"
      ],
      "metadata": {
        "colab": {
          "base_uri": "https://localhost:8080/"
        },
        "id": "HRmO9pfxsID2",
        "outputId": "be067c6c-8815-4ca5-df47-a6711878e804"
      },
      "execution_count": 12,
      "outputs": [
        {
          "output_type": "stream",
          "name": "stdout",
          "text": [
            "Reversed of a string:  timus\n"
          ]
        }
      ]
    },
    {
      "cell_type": "code",
      "source": [
        "#15. Write a Python program to calculate the factorial of a number provided by the user using a while loop.\n",
        "number = 10\n",
        "factorial = 1\n",
        "while number > 0:\n",
        "    factorial = factorial * number\n",
        "    number = number - 1\n",
        "print(factorial)"
      ],
      "metadata": {
        "colab": {
          "base_uri": "https://localhost:8080/"
        },
        "id": "uvSLNhT7sLK1",
        "outputId": "255771f6-e98a-4f3d-a8cd-db38e725efec"
      },
      "execution_count": 13,
      "outputs": [
        {
          "output_type": "stream",
          "name": "stdout",
          "text": [
            "3628800\n"
          ]
        }
      ]
    }
  ]
}